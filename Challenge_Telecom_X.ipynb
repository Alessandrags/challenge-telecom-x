{
  "nbformat": 4,
  "nbformat_minor": 0,
  "metadata": {
    "colab": {
      "provenance": [],
      "toc_visible": true,
      "authorship_tag": "ABX9TyMrB96N0ylB69u8L/xunwrH",
      "include_colab_link": true
    },
    "kernelspec": {
      "name": "python3",
      "display_name": "Python 3"
    },
    "language_info": {
      "name": "python"
    }
  },
  "cells": [
    {
      "cell_type": "markdown",
      "metadata": {
        "id": "view-in-github",
        "colab_type": "text"
      },
      "source": [
        "<a href=\"https://colab.research.google.com/github/Alessandrags/challenge-telecom-x/blob/main/Challenge_Telecom_X.ipynb\" target=\"_parent\"><img src=\"https://colab.research.google.com/assets/colab-badge.svg\" alt=\"Open In Colab\"/></a>"
      ]
    },
    {
      "cell_type": "markdown",
      "source": [
        "# 📌 Extração\n"
      ],
      "metadata": {
        "id": "ny-PItBc3hth"
      }
    },
    {
      "cell_type": "code",
      "execution_count": null,
      "metadata": {
        "id": "rdT3DcG324-D"
      },
      "outputs": [],
      "source": []
    },
    {
      "cell_type": "markdown",
      "source": [],
      "metadata": {
        "id": "6Uukpm8j3u9K"
      }
    },
    {
      "cell_type": "markdown",
      "source": [
        "#🔧 Transformação\n"
      ],
      "metadata": {
        "id": "DpGklkeg4HPV"
      }
    },
    {
      "cell_type": "code",
      "source": [],
      "metadata": {
        "id": "P8TXwsBE4Lz6"
      },
      "execution_count": null,
      "outputs": []
    },
    {
      "cell_type": "markdown",
      "source": [
        "#📊 Carga e análise\n"
      ],
      "metadata": {
        "id": "OzG0LLLH4MLE"
      }
    },
    {
      "cell_type": "code",
      "source": [],
      "metadata": {
        "id": "suAaUJfO4NeK"
      },
      "execution_count": null,
      "outputs": []
    },
    {
      "cell_type": "markdown",
      "source": [
        "#📄Relatorio Final"
      ],
      "metadata": {
        "id": "0wXaOrj24OX8"
      }
    },
    {
      "cell_type": "markdown",
      "source": [],
      "metadata": {
        "id": "eT4SMA-s4Taz"
      }
    }
  ]
}